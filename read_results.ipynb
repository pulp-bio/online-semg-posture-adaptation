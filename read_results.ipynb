{
 "cells": [
  {
   "cell_type": "code",
   "execution_count": null,
   "metadata": {},
   "outputs": [],
   "source": [
    "from __future__ import annotations\n",
    "import itertools\n",
    "import pickle\n",
    "\n",
    "import numpy as np\n",
    "import matplotlib.pyplot as plt\n",
    "import scipy.stats as sstt\n",
    "\n",
    "from alignments import dataset as ds"
   ]
  },
  {
   "cell_type": "code",
   "execution_count": null,
   "metadata": {},
   "outputs": [],
   "source": [
    "# results file of each experiment\n",
    "fullpath_results_multi = './results/results_multitrain.pkl'\n",
    "fullpath_results_calib = './results/results_adaptation.pkl'\n",
    "\n",
    "# load all results files\n",
    "\n",
    "with open(fullpath_results_multi, 'rb') as f:\n",
    "    results_multi = pickle.load(f)['results']\n",
    "\n",
    "with open(fullpath_results_calib, 'rb') as f:\n",
    "    results_calib = pickle.load(f)['results']"
   ]
  },
  {
   "cell_type": "code",
   "execution_count": null,
   "metadata": {},
   "outputs": [],
   "source": [
    "FULL_CARTPROD = itertools.product(\n",
    "    range(ds.NUM_SUBJECTS),\n",
    "    range(ds.NUM_DAYS),\n",
    "    range(ds.NUM_POSTURES),  # reference posture\n",
    "    range(ds.NUM_POSTURES),  # arrival posture\n",
    ")\n",
    "FULL_CARTPROD = list(FULL_CARTPROD)  # for reuse, notebook-style\n",
    "\n",
    "subject_sublist     = [0, 1, 2, 3, 4, 5, 6]\n",
    "day_sublist         = [0]  # [0, 1, 2, 3, 4, 5, 6, 7]\n",
    "ref_posture_sublist = [0, 1, 2, 3]  # reference postures\n",
    "tgt_posture_sublist = [0, 1, 2, 3]  # arrival postures\n",
    "\n",
    "# CUSTOM_CARTPROD = FULL_CARTPROD\n",
    "CUSTOM_CARTPROD_BASELINE = itertools.product(\n",
    "    subject_sublist,\n",
    "    day_sublist,\n",
    "    tgt_posture_sublist,\n",
    ")\n",
    "CUSTOM_CARTPROD_BASELINE = list(CUSTOM_CARTPROD_BASELINE)  # for reuse, notebook-style\n",
    "\n",
    "CUSTOM_CARTPROD = itertools.product(\n",
    "    subject_sublist,\n",
    "    day_sublist,\n",
    "    ref_posture_sublist,\n",
    "    tgt_posture_sublist,\n",
    ")\n",
    "CUSTOM_CARTPROD = list(CUSTOM_CARTPROD)  # for reuse, notebook-style"
   ]
  },
  {
   "cell_type": "code",
   "execution_count": null,
   "metadata": {},
   "outputs": [],
   "source": [
    "# Format accuracy data\n",
    "\n",
    "\n",
    "# multi-posture training\n",
    "acc_multi = np.zeros((ds.NUM_SUBJECTS, ds.NUM_DAYS, ds.NUM_POSTURES), dtype=np.float32)\n",
    "\n",
    "for idx_subject, idx_day, idx_posture in itertools.product(\n",
    "    range(ds.NUM_SUBJECTS), range(ds.NUM_DAYS), range(ds.NUM_POSTURES),\n",
    "):\n",
    "    acc_multi[idx_subject, idx_day, idx_posture] = \\\n",
    "        results_multi['subject'][idx_subject]['day'][idx_day]['posture'][idx_posture]['validation']['accuracy']\n",
    "\n",
    "custom_mask_mesh = np.ix_(subject_sublist, day_sublist, tgt_posture_sublist)\n",
    "acc_multi = acc_multi[custom_mask_mesh]  # select all dimensions simultaneously\n",
    "\n",
    "\n",
    "# calibration modes\n",
    "acc_calib_none = np.zeros((ds.NUM_SUBJECTS, ds.NUM_DAYS, ds.NUM_POSTURES, ds.NUM_POSTURES), dtype=np.float32)\n",
    "acc_calib_pcaon = np.zeros((ds.NUM_SUBJECTS, ds.NUM_DAYS, ds.NUM_POSTURES, ds.NUM_POSTURES), dtype=np.float32)\n",
    "\n",
    "for idx_subject, idx_day, idx_ref_posture, idx_tgt_posture in CUSTOM_CARTPROD:\n",
    "\n",
    "    # no adaptation\n",
    "    acc_calib_none[idx_subject, idx_day, idx_ref_posture, idx_tgt_posture] = \\\n",
    "        results_calib['subject'][idx_subject]['day'][idx_day]['reference_posture'][idx_ref_posture][\n",
    "            'target_posture'][idx_tgt_posture]['recalibration_mode']['none']['validation']['accuracy']\n",
    "\n",
    "    # online PCA\n",
    "    acc_calib_pcaon[idx_subject, idx_day, idx_ref_posture, idx_tgt_posture] = \\\n",
    "        results_calib['subject'][idx_subject]['day'][idx_day]['reference_posture'][idx_ref_posture][\n",
    "            'target_posture'][idx_tgt_posture]['recalibration_mode']['pca_online']['validation']['accuracy']\n",
    "\n",
    "\n",
    "# calibration modes: discard the posture-diagonal ones\n",
    "acc_calib_none_flat = []\n",
    "acc_calib_pcaon_flat = []\n",
    "\n",
    "for idx_subject, idx_day, idx_ref_posture, idx_tgt_posture in CUSTOM_CARTPROD:\n",
    "    if idx_tgt_posture != idx_ref_posture:\n",
    "        acc_calib_none_flat.append(acc_calib_none[idx_subject, idx_day, idx_ref_posture, idx_tgt_posture])\n",
    "        acc_calib_pcaon_flat.append(acc_calib_pcaon[idx_subject, idx_day, idx_ref_posture, idx_tgt_posture])\n",
    "\n",
    "acc_calib_none_flat = np.array(acc_calib_none_flat, dtype=np.float32)\n",
    "acc_calib_pcaon_flat = np.array(acc_calib_pcaon_flat, dtype=np.float32)"
   ]
  },
  {
   "cell_type": "code",
   "execution_count": null,
   "metadata": {},
   "outputs": [],
   "source": [
    "# Statistics: median and Median Absolute Deviation (MAD)\n",
    "\n",
    "# median\n",
    "acc_multi_med = np.median(acc_multi)\n",
    "acc_calib_none_med = np.median(acc_calib_none_flat)\n",
    "acc_calib_pcaon_med = np.median(acc_calib_pcaon_flat)\n",
    "\n",
    "# mad\n",
    "acc_multi_mad = sstt.median_abs_deviation(acc_multi, axis=(0, 1, 2))\n",
    "acc_calib_none_mad = sstt.median_abs_deviation(acc_calib_none_flat)\n",
    "acc_calib_pcaon_mad = sstt.median_abs_deviation(acc_calib_pcaon_flat)\n",
    "\n",
    "\n",
    "# Display results\n",
    "print(\n",
    "    f\"\\t\\t\\tmedian +/- mad\\n\"\n",
    "    f\"---------------------------------------------------------------------------------------------------------\\n\"\n",
    "    f\"Multiposture train:\\t{acc_multi_med:.4f} +/- {acc_multi_mad:.4f}\\n\"\n",
    "    f\"---------------------------------------------------------------------------------------------------------\\n\"\n",
    "    f\"No adaptation:\\t\\t{acc_calib_none_med:.4f} +/- {acc_calib_none_mad:.4f}\\n\"\n",
    "    f\"Online PCA:\\t\\t{acc_calib_pcaon_med:.4f} +/- {acc_calib_pcaon_mad:.4f}\\n\"\n",
    ")"
   ]
  },
  {
   "cell_type": "code",
   "execution_count": null,
   "metadata": {},
   "outputs": [],
   "source": [
    "recovered_drop_med_fraction = (acc_calib_pcaon_med - acc_calib_none_med) / (acc_multi_med - acc_calib_none_med)\n",
    "print(recovered_drop_med_fraction.round(4))"
   ]
  },
  {
   "cell_type": "code",
   "execution_count": null,
   "metadata": {},
   "outputs": [],
   "source": []
  }
 ],
 "metadata": {
  "kernelspec": {
   "display_name": "base",
   "language": "python",
   "name": "python3"
  },
  "language_info": {
   "codemirror_mode": {
    "name": "ipython",
    "version": 3
   },
   "file_extension": ".py",
   "mimetype": "text/x-python",
   "name": "python",
   "nbconvert_exporter": "python",
   "pygments_lexer": "ipython3",
   "version": "3.8.2"
  },
  "orig_nbformat": 4
 },
 "nbformat": 4,
 "nbformat_minor": 2
}
